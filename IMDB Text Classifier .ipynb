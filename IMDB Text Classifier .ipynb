{
 "cells": [
  {
   "cell_type": "markdown",
   "metadata": {},
   "source": [
    "### The aim is to classify reviews as good or bad provided from IMDB dataset."
   ]
  },
  {
   "cell_type": "code",
   "execution_count": 1,
   "metadata": {},
   "outputs": [],
   "source": [
    "import tensorflow as tf\n",
    "from tensorflow import keras\n",
    "\n",
    "import numpy as np"
   ]
  },
  {
   "cell_type": "code",
   "execution_count": 2,
   "metadata": {},
   "outputs": [],
   "source": [
    "imdb=keras.datasets.imdb\n",
    "(train_data,train_labels),(test_data,test_labels)=imdb.load_data(num_words=10000)"
   ]
  },
  {
   "cell_type": "code",
   "execution_count": 3,
   "metadata": {},
   "outputs": [],
   "source": [
    "import pandas as pd"
   ]
  },
  {
   "cell_type": "code",
   "execution_count": 4,
   "metadata": {},
   "outputs": [
    {
     "data": {
      "text/plain": [
       "array([1, 0, 0, ..., 0, 1, 0])"
      ]
     },
     "execution_count": 4,
     "metadata": {},
     "output_type": "execute_result"
    }
   ],
   "source": [
    "train_labels"
   ]
  },
  {
   "cell_type": "code",
   "execution_count": 5,
   "metadata": {},
   "outputs": [],
   "source": [
    "# A dictionary mapping words to an integer index\n",
    "word_index = imdb.get_word_index()\n",
    "\n",
    "# The first indices are reserved\n",
    "word_index = {k:(v+3) for k,v in word_index.items()} \n",
    "word_index[\"<PAD>\"] = 0\n",
    "word_index[\"<START>\"] = 1\n",
    "word_index[\"<UNK>\"] = 2  # unknown\n",
    "word_index[\"<UNUSED>\"] = 3\n",
    "\n",
    "reverse_word_index = dict([(value, key) for (key, value) in word_index.items()])\n",
    "\n",
    "def decode_review(text):\n",
    "    return ' '.join([reverse_word_index.get(i, '?') for i in text])"
   ]
  },
  {
   "cell_type": "code",
   "execution_count": 6,
   "metadata": {
    "scrolled": true
   },
   "outputs": [
    {
     "name": "stdout",
     "output_type": "stream",
     "text": [
      "2494 24999\n"
     ]
    }
   ],
   "source": [
    "m=0\n",
    "for i in range(len(train_data)):\n",
    "    if(len(train_data[i])>m):\n",
    "        m=len(train_data[i])\n",
    "print(m,i)        "
   ]
  },
  {
   "cell_type": "code",
   "execution_count": 7,
   "metadata": {},
   "outputs": [
    {
     "name": "stdout",
     "output_type": "stream",
     "text": [
      "[1, 14, 22, 16, 43, 530, 973, 1622, 1385, 65, 458, 4468, 66, 3941, 4, 173, 36, 256, 5, 25, 100, 43, 838, 112, 50, 670, 2, 9, 35, 480, 284, 5, 150, 4, 172, 112, 167, 2, 336, 385, 39, 4, 172, 4536, 1111, 17, 546, 38, 13, 447, 4, 192, 50, 16, 6, 147, 2025, 19, 14, 22, 4, 1920, 4613, 469, 4, 22, 71, 87, 12, 16, 43, 530, 38, 76, 15, 13, 1247, 4, 22, 17, 515, 17, 12, 16, 626, 18, 2, 5, 62, 386, 12, 8, 316, 8, 106, 5, 4, 2223, 5244, 16, 480, 66, 3785, 33, 4, 130, 12, 16, 38, 619, 5, 25, 124, 51, 36, 135, 48, 25, 1415, 33, 6, 22, 12, 215, 28, 77, 52, 5, 14, 407, 16, 82, 2, 8, 4, 107, 117, 5952, 15, 256, 4, 2, 7, 3766, 5, 723, 36, 71, 43, 530, 476, 26, 400, 317, 46, 7, 4, 2, 1029, 13, 104, 88, 4, 381, 15, 297, 98, 32, 2071, 56, 26, 141, 6, 194, 7486, 18, 4, 226, 22, 21, 134, 476, 26, 480, 5, 144, 30, 5535, 18, 51, 36, 28, 224, 92, 25, 104, 4, 226, 65, 16, 38, 1334, 88, 12, 16, 283, 5, 16, 4472, 113, 103, 32, 15, 16, 5345, 19, 178, 32]\n"
     ]
    }
   ],
   "source": [
    "print(train_data[0])"
   ]
  },
  {
   "cell_type": "code",
   "execution_count": 8,
   "metadata": {},
   "outputs": [
    {
     "name": "stdout",
     "output_type": "stream",
     "text": [
      "<START> this film was just brilliant casting location scenery story direction everyone's really suited the part they played and you could just imagine being there robert <UNK> is an amazing actor and now the same being director <UNK> father came from the same scottish island as myself so i loved the fact there was a real connection with this film the witty remarks throughout the film were great it was just brilliant so much that i bought the film as soon as it was released for <UNK> and would recommend it to everyone to watch and the fly fishing was amazing really cried at the end it was so sad and you know what they say if you cry at a film it must have been good and this definitely was also <UNK> to the two little boy's that played the <UNK> of norman and paul they were just brilliant children are often left out of the <UNK> list i think because the stars that play them all grown up are such a big profile for the whole film but these children are amazing and should be praised for what they have done don't you think the whole story was so lovely because it was true and was someone's life after all that was shared with us all\n"
     ]
    }
   ],
   "source": [
    "print(decode_review(train_data[0]))"
   ]
  },
  {
   "cell_type": "code",
   "execution_count": 9,
   "metadata": {},
   "outputs": [
    {
     "data": {
      "text/plain": [
       "25000"
      ]
     },
     "execution_count": 9,
     "metadata": {},
     "output_type": "execute_result"
    }
   ],
   "source": [
    "len(train_labels)"
   ]
  },
  {
   "cell_type": "code",
   "execution_count": 10,
   "metadata": {},
   "outputs": [],
   "source": [
    "train_data = keras.preprocessing.sequence.pad_sequences(train_data,\n",
    "                                                        value=word_index[\"<PAD>\"],\n",
    "                                                        padding='post',\n",
    "                                                        maxlen=256)\n",
    "\n",
    "test_data = keras.preprocessing.sequence.pad_sequences(test_data,\n",
    "                                                       value=word_index[\"<PAD>\"],\n",
    "                                                       padding='post',\n",
    "                                                       maxlen=256)"
   ]
  },
  {
   "cell_type": "code",
   "execution_count": 11,
   "metadata": {},
   "outputs": [
    {
     "name": "stdout",
     "output_type": "stream",
     "text": [
      "WARNING:tensorflow:From /home/prerak/.local/lib/python3.6/site-packages/tensorflow/python/ops/resource_variable_ops.py:435: colocate_with (from tensorflow.python.framework.ops) is deprecated and will be removed in a future version.\n",
      "Instructions for updating:\n",
      "Colocations handled automatically by placer.\n",
      "_________________________________________________________________\n",
      "Layer (type)                 Output Shape              Param #   \n",
      "=================================================================\n",
      "embedding (Embedding)        (None, None, 16)          160000    \n",
      "_________________________________________________________________\n",
      "global_average_pooling1d (Gl (None, 16)                0         \n",
      "_________________________________________________________________\n",
      "dense (Dense)                (None, 16)                272       \n",
      "_________________________________________________________________\n",
      "dense_1 (Dense)              (None, 1)                 17        \n",
      "=================================================================\n",
      "Total params: 160,289\n",
      "Trainable params: 160,289\n",
      "Non-trainable params: 0\n",
      "_________________________________________________________________\n"
     ]
    }
   ],
   "source": [
    "# input shape is the vocabulary count used for the movie reviews (10,000 words)\n",
    "vocab_size = 10000\n",
    "\n",
    "model = keras.Sequential()\n",
    "model.add(keras.layers.Embedding(vocab_size, 16))\n",
    "model.add(keras.layers.GlobalAveragePooling1D())\n",
    "model.add(keras.layers.Dense(16, activation=tf.nn.relu))\n",
    "model.add(keras.layers.Dense(1, activation=tf.nn.sigmoid))\n",
    "\n",
    "model.summary()"
   ]
  },
  {
   "cell_type": "code",
   "execution_count": 12,
   "metadata": {},
   "outputs": [],
   "source": [
    "model.compile(optimizer='adam',\n",
    "              loss='binary_crossentropy',\n",
    "              metrics=['acc'])"
   ]
  },
  {
   "cell_type": "code",
   "execution_count": 13,
   "metadata": {},
   "outputs": [],
   "source": [
    "x_val = train_data[:10000]\n",
    "partial_x_train = train_data[10000:]\n",
    "\n",
    "y_val = train_labels[:10000]\n",
    "partial_y_train = train_labels[10000:]"
   ]
  },
  {
   "cell_type": "code",
   "execution_count": 14,
   "metadata": {
    "scrolled": false
   },
   "outputs": [
    {
     "name": "stdout",
     "output_type": "stream",
     "text": [
      "Train on 15000 samples, validate on 10000 samples\n",
      "WARNING:tensorflow:From /home/prerak/.local/lib/python3.6/site-packages/tensorflow/python/ops/math_ops.py:3066: to_int32 (from tensorflow.python.ops.math_ops) is deprecated and will be removed in a future version.\n",
      "Instructions for updating:\n",
      "Use tf.cast instead.\n",
      "Epoch 1/40\n",
      "15000/15000 [==============================] - 1s 59us/sample - loss: 0.6916 - acc: 0.5367 - val_loss: 0.6894 - val_acc: 0.5904\n",
      "Epoch 2/40\n",
      "15000/15000 [==============================] - 1s 45us/sample - loss: 0.6850 - acc: 0.6906 - val_loss: 0.6805 - val_acc: 0.7118\n",
      "Epoch 3/40\n",
      "15000/15000 [==============================] - 1s 47us/sample - loss: 0.6711 - acc: 0.7407 - val_loss: 0.6631 - val_acc: 0.7550\n",
      "Epoch 4/40\n",
      "15000/15000 [==============================] - 1s 47us/sample - loss: 0.6472 - acc: 0.7545 - val_loss: 0.6363 - val_acc: 0.7671\n",
      "Epoch 5/40\n",
      "15000/15000 [==============================] - 1s 49us/sample - loss: 0.6131 - acc: 0.7891 - val_loss: 0.6013 - val_acc: 0.7881\n",
      "Epoch 6/40\n",
      "15000/15000 [==============================] - 1s 49us/sample - loss: 0.5710 - acc: 0.8127 - val_loss: 0.5614 - val_acc: 0.8036\n",
      "Epoch 7/40\n",
      "15000/15000 [==============================] - 1s 51us/sample - loss: 0.5247 - acc: 0.8305 - val_loss: 0.5181 - val_acc: 0.8225\n",
      "Epoch 8/40\n",
      "15000/15000 [==============================] - 1s 48us/sample - loss: 0.4788 - acc: 0.8493 - val_loss: 0.4784 - val_acc: 0.8336\n",
      "Epoch 9/40\n",
      "15000/15000 [==============================] - 1s 49us/sample - loss: 0.4360 - acc: 0.8621 - val_loss: 0.4425 - val_acc: 0.8449\n",
      "Epoch 10/40\n",
      "15000/15000 [==============================] - 1s 44us/sample - loss: 0.3981 - acc: 0.8749 - val_loss: 0.4129 - val_acc: 0.8502\n",
      "Epoch 11/40\n",
      "15000/15000 [==============================] - 1s 45us/sample - loss: 0.3658 - acc: 0.8823 - val_loss: 0.3880 - val_acc: 0.8589\n",
      "Epoch 12/40\n",
      "15000/15000 [==============================] - 1s 47us/sample - loss: 0.3385 - acc: 0.8897 - val_loss: 0.3690 - val_acc: 0.8617\n",
      "Epoch 13/40\n",
      "15000/15000 [==============================] - 1s 50us/sample - loss: 0.3158 - acc: 0.8957 - val_loss: 0.3519 - val_acc: 0.8676\n",
      "Epoch 14/40\n",
      "15000/15000 [==============================] - 1s 51us/sample - loss: 0.2955 - acc: 0.9006 - val_loss: 0.3394 - val_acc: 0.8725\n",
      "Epoch 15/40\n",
      "15000/15000 [==============================] - 1s 45us/sample - loss: 0.2784 - acc: 0.9060 - val_loss: 0.3287 - val_acc: 0.8742\n",
      "Epoch 16/40\n",
      "15000/15000 [==============================] - 1s 51us/sample - loss: 0.2631 - acc: 0.9109 - val_loss: 0.3201 - val_acc: 0.8754\n",
      "Epoch 17/40\n",
      "15000/15000 [==============================] - 1s 44us/sample - loss: 0.2489 - acc: 0.9159 - val_loss: 0.3128 - val_acc: 0.8776\n",
      "Epoch 18/40\n",
      "15000/15000 [==============================] - 1s 45us/sample - loss: 0.2363 - acc: 0.9203 - val_loss: 0.3064 - val_acc: 0.8806\n",
      "Epoch 19/40\n",
      "15000/15000 [==============================] - 1s 48us/sample - loss: 0.2250 - acc: 0.9229 - val_loss: 0.3013 - val_acc: 0.8812\n",
      "Epoch 20/40\n",
      "15000/15000 [==============================] - 1s 47us/sample - loss: 0.2148 - acc: 0.9269 - val_loss: 0.2976 - val_acc: 0.8811\n",
      "Epoch 21/40\n",
      "15000/15000 [==============================] - 1s 44us/sample - loss: 0.2044 - acc: 0.9307 - val_loss: 0.2946 - val_acc: 0.8826\n",
      "Epoch 22/40\n",
      "15000/15000 [==============================] - 1s 45us/sample - loss: 0.1957 - acc: 0.9342 - val_loss: 0.2915 - val_acc: 0.8839\n",
      "Epoch 23/40\n",
      "15000/15000 [==============================] - 1s 45us/sample - loss: 0.1869 - acc: 0.9381 - val_loss: 0.2902 - val_acc: 0.8834\n",
      "Epoch 24/40\n",
      "15000/15000 [==============================] - 1s 47us/sample - loss: 0.1793 - acc: 0.9419 - val_loss: 0.2888 - val_acc: 0.8843\n",
      "Epoch 25/40\n",
      "15000/15000 [==============================] - 1s 48us/sample - loss: 0.1716 - acc: 0.9455 - val_loss: 0.2869 - val_acc: 0.8848\n",
      "Epoch 26/40\n",
      "15000/15000 [==============================] - 1s 48us/sample - loss: 0.1646 - acc: 0.9478 - val_loss: 0.2874 - val_acc: 0.8839\n",
      "Epoch 27/40\n",
      "15000/15000 [==============================] - 1s 49us/sample - loss: 0.1581 - acc: 0.9501 - val_loss: 0.2866 - val_acc: 0.8846\n",
      "Epoch 28/40\n",
      "15000/15000 [==============================] - 1s 49us/sample - loss: 0.1517 - acc: 0.9533 - val_loss: 0.2872 - val_acc: 0.8853\n",
      "Epoch 29/40\n",
      "15000/15000 [==============================] - 1s 46us/sample - loss: 0.1462 - acc: 0.9565 - val_loss: 0.2882 - val_acc: 0.8834\n",
      "Epoch 30/40\n",
      "15000/15000 [==============================] - 1s 45us/sample - loss: 0.1405 - acc: 0.9577 - val_loss: 0.2877 - val_acc: 0.8861\n",
      "Epoch 31/40\n",
      "15000/15000 [==============================] - 1s 45us/sample - loss: 0.1345 - acc: 0.9609 - val_loss: 0.2885 - val_acc: 0.8864\n",
      "Epoch 32/40\n",
      "15000/15000 [==============================] - 1s 45us/sample - loss: 0.1293 - acc: 0.9629 - val_loss: 0.2898 - val_acc: 0.8859\n",
      "Epoch 33/40\n",
      "15000/15000 [==============================] - 1s 47us/sample - loss: 0.1242 - acc: 0.9648 - val_loss: 0.2919 - val_acc: 0.8864\n",
      "Epoch 34/40\n",
      "15000/15000 [==============================] - 1s 46us/sample - loss: 0.1196 - acc: 0.9663 - val_loss: 0.2940 - val_acc: 0.8853\n",
      "Epoch 35/40\n",
      "15000/15000 [==============================] - 1s 47us/sample - loss: 0.1154 - acc: 0.9671 - val_loss: 0.2960 - val_acc: 0.8861\n",
      "Epoch 36/40\n",
      "15000/15000 [==============================] - 1s 45us/sample - loss: 0.1109 - acc: 0.9695 - val_loss: 0.2977 - val_acc: 0.8843\n",
      "Epoch 37/40\n",
      "15000/15000 [==============================] - 1s 45us/sample - loss: 0.1065 - acc: 0.9707 - val_loss: 0.3003 - val_acc: 0.8840\n",
      "Epoch 38/40\n",
      "15000/15000 [==============================] - 1s 45us/sample - loss: 0.1024 - acc: 0.9724 - val_loss: 0.3036 - val_acc: 0.8834\n",
      "Epoch 39/40\n",
      "15000/15000 [==============================] - 1s 47us/sample - loss: 0.0993 - acc: 0.9733 - val_loss: 0.3072 - val_acc: 0.8824\n",
      "Epoch 40/40\n",
      "15000/15000 [==============================] - 1s 45us/sample - loss: 0.0950 - acc: 0.9751 - val_loss: 0.3098 - val_acc: 0.8832\n"
     ]
    }
   ],
   "source": [
    "history = model.fit(partial_x_train,\n",
    "                    partial_y_train,\n",
    "                    epochs=40,\n",
    "                    batch_size=512,\n",
    "                    validation_data=(x_val, y_val),\n",
    "                    verbose=1)"
   ]
  },
  {
   "cell_type": "code",
   "execution_count": 15,
   "metadata": {},
   "outputs": [
    {
     "data": {
      "text/plain": [
       "dict_keys(['loss', 'acc', 'val_loss', 'val_acc'])"
      ]
     },
     "execution_count": 15,
     "metadata": {},
     "output_type": "execute_result"
    }
   ],
   "source": [
    "history_dict = history.history\n",
    "history_dict.keys()"
   ]
  },
  {
   "cell_type": "code",
   "execution_count": 16,
   "metadata": {},
   "outputs": [
    {
     "data": {
      "text/plain": [
       "<Figure size 640x480 with 1 Axes>"
      ]
     },
     "metadata": {},
     "output_type": "display_data"
    }
   ],
   "source": [
    "import matplotlib.pyplot as plt\n",
    "\n",
    "acc = history_dict['acc']\n",
    "val_acc = history_dict['val_acc']\n",
    "loss = history_dict['loss']\n",
    "val_loss = history_dict['val_loss']\n",
    "\n",
    "epochs = range(1, len(acc) + 1)\n",
    "\n",
    "# \"bo\" is for \"blue dot\"\n",
    "plt.plot(epochs, loss, 'bo', label='Training loss')\n",
    "# b is for \"solid blue line\"\n",
    "plt.plot(epochs, val_loss, 'b', label='Validation loss')\n",
    "plt.title('Training and validation loss')\n",
    "plt.xlabel('Epochs')\n",
    "plt.ylabel('Loss')\n",
    "plt.legend()\n",
    "\n",
    "plt.show()"
   ]
  },
  {
   "cell_type": "code",
   "execution_count": 18,
   "metadata": {},
   "outputs": [
    {
     "data": {
      "image/png": "[encoded data removed]",
      "text/plain": [
       "<Figure size 432x288 with 1 Axes>"
      ]
     },
     "metadata": {},
     "output_type": "display_data"
    }
   ],
   "source": [
    "plt.clf()   # clear figure\n",
    "\n",
    "plt.plot(epochs, acc, 'g', label='Training acc')\n",
    "plt.plot(epochs, val_acc, 'b', label='Validation acc')\n",
    "plt.title('Training and validation accuracy')\n",
    "plt.xlabel('Epochs')\n",
    "plt.ylabel('Accuracy')\n",
    "plt.legend()\n",
    "\n",
    "plt.show()"
   ]
  }
 ],
 "metadata": {
  "kernelspec": {
   "display_name": "Python 3",
   "language": "python",
   "name": "python3"
  },
  "language_info": {
   "codemirror_mode": {
    "name": "ipython",
    "version": 3
   },
   "file_extension": ".py",
   "mimetype": "text/x-python",
   "name": "python",
   "nbconvert_exporter": "python",
   "pygments_lexer": "ipython3",
   "version": "3.6.7"
  }
 },
 "nbformat": 4,
 "nbformat_minor": 2
}
